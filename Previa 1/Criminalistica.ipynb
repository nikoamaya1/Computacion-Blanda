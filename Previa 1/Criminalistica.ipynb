{
  "nbformat": 4,
  "nbformat_minor": 0,
  "metadata": {
    "kernelspec": {
      "display_name": "Python 3 (Anaconda)",
      "language": "python",
      "name": "anaconda3"
    },
    "language_info": {
      "codemirror_mode": {
        "name": "ipython",
        "version": 3
      },
      "file_extension": ".py",
      "mimetype": "text/x-python",
      "name": "python",
      "nbconvert_exporter": "python",
      "pygments_lexer": "ipython3",
      "version": "3.5.5"
    },
    "colab": {
      "name": "Criminalistica.ipynb",
      "provenance": [],
      "collapsed_sections": [
        "TUZM5WdSx7cY",
        "GlIxnjaWueuV",
        "8ZlEeNmcru0w",
        "vVgI2xPLt_nP",
        "RIrcOYQDuCta",
        "Ue55Lu-tuGAn",
        "7hifavCNuKt7",
        "y0v6rrij9IcX",
        "GKq4g0LeuoJR",
        "Pp-ViapF8xNe",
        "pFikBHFI9lUv"
      ],
      "include_colab_link": true
    }
  },
  "cells": [
    {
      "cell_type": "markdown",
      "metadata": {
        "id": "view-in-github",
        "colab_type": "text"
      },
      "source": [
        "<a href=\"https://colab.research.google.com/github/ROYMASON11v1/CompuBlanda/blob/main/Criminalistica.ipynb\" target=\"_parent\"><img src=\"https://colab.research.google.com/assets/colab-badge.svg\" alt=\"Open In Colab\"/></a>"
      ]
    },
    {
      "cell_type": "markdown",
      "metadata": {
        "id": "T8_GfbDuuYtZ"
      },
      "source": [
        "#Lógica difusa\n",
        "- Nicolás Amaya\n",
        "- Cristian Rodriguez\n",
        "- Victor Betancourth"
      ]
    },
    {
      "cell_type": "markdown",
      "metadata": {
        "id": "TUZM5WdSx7cY"
      },
      "source": [
        "##Librerias"
      ]
    },
    {
      "cell_type": "code",
      "metadata": {
        "id": "AKl3AOlmrZZu",
        "colab": {
          "base_uri": "https://localhost:8080/"
        },
        "outputId": "2d9db87d-fc70-47c8-ed42-f3fced8b34be"
      },
      "source": [
        "!pip install -U scikit-fuzzy # http://pythonhosted.org/scikit-fuzzy/auto_examples/index.html"
      ],
      "execution_count": 1,
      "outputs": [
        {
          "output_type": "stream",
          "name": "stdout",
          "text": [
            "Requirement already satisfied: scikit-fuzzy in /usr/local/lib/python3.7/dist-packages (0.4.2)\n",
            "Requirement already satisfied: scipy>=0.9.0 in /usr/local/lib/python3.7/dist-packages (from scikit-fuzzy) (1.4.1)\n",
            "Requirement already satisfied: networkx>=1.9.0 in /usr/local/lib/python3.7/dist-packages (from scikit-fuzzy) (2.6.3)\n",
            "Requirement already satisfied: numpy>=1.6.0 in /usr/local/lib/python3.7/dist-packages (from scikit-fuzzy) (1.19.5)\n"
          ]
        }
      ]
    },
    {
      "cell_type": "code",
      "metadata": {
        "id": "B-XMojmVrZZ2"
      },
      "source": [
        "import numpy as np\n",
        "import skfuzzy as fuzz\n",
        "from skfuzzy import control as ctrl\n",
        "import matplotlib.pyplot as plt"
      ],
      "execution_count": 2,
      "outputs": []
    },
    {
      "cell_type": "markdown",
      "metadata": {
        "id": "GlIxnjaWueuV"
      },
      "source": [
        "##Parametros del sistema"
      ]
    },
    {
      "cell_type": "markdown",
      "metadata": {
        "id": "p7hxgjUvB_fw"
      },
      "source": [
        "En nuestro ejercicio vamos medir el indice de criminalidad mediante varios parametros que son:\n",
        "- Temperatura\n",
        "- Hurtos\n",
        "- Robos\n",
        "- Homicidios\n",
        "\n",
        "La lógica difusa con la que mediremos estos parametros será con:\n",
        "- Bajo\n",
        "- Medio\n",
        "- Alto"
      ]
    },
    {
      "cell_type": "markdown",
      "metadata": {
        "id": "8ZlEeNmcru0w"
      },
      "source": [
        "###Definimos Temperatura\n"
      ]
    },
    {
      "cell_type": "code",
      "metadata": {
        "colab": {
          "base_uri": "https://localhost:8080/",
          "height": 281
        },
        "id": "koYAQmXMrZZ5",
        "outputId": "4f4957d6-29e0-4144-86aa-2de3a26d928b"
      },
      "source": [
        "t = ctrl.Antecedent(np.arange(0, 50, 1), 'T')\n",
        "\n",
        "t['bajo'] = fuzz.sigmf(t.universe, 10, -1)\n",
        "t['medio'] = fuzz.gaussmf(t.universe, 23, 3)\n",
        "t['alto']  = fuzz.pimf(t.universe, 28, 40, 50, 75)\n",
        "\n",
        "t.view()"
      ],
      "execution_count": 3,
      "outputs": [
        {
          "output_type": "display_data",
          "data": {
            "image/png": "[encoded data removed]",
            "text/plain": [
              "<Figure size 432x288 with 1 Axes>"
            ]
          },
          "metadata": {
            "needs_background": "light"
          }
        }
      ]
    },
    {
      "cell_type": "markdown",
      "metadata": {
        "id": "vVgI2xPLt_nP"
      },
      "source": [
        "###Definimos Hurtos"
      ]
    },
    {
      "cell_type": "code",
      "metadata": {
        "colab": {
          "base_uri": "https://localhost:8080/",
          "height": 281
        },
        "id": "IeauKyDdrZZ7",
        "outputId": "15157f5b-5d11-4cd4-d32f-12e154065b9c"
      },
      "source": [
        "hur = ctrl.Antecedent(np.arange(0, 50, 1), 'hurto')\n",
        "\n",
        "hur['bajo'] = fuzz.trimf(hur.universe, [0, 0, 20])\n",
        "hur['medio'] = fuzz.gbellmf(hur.universe, 6, 5, 24)\n",
        "hur['alto']  = fuzz.pimf(hur.universe, 29, 40, 48, 70)\n",
        "\n",
        "hur.view()"
      ],
      "execution_count": 4,
      "outputs": [
        {
          "output_type": "display_data",
          "data": {
            "image/png": "[encoded data removed]",
            "text/plain": [
              "<Figure size 432x288 with 1 Axes>"
            ]
          },
          "metadata": {
            "needs_background": "light"
          }
        }
      ]
    },
    {
      "cell_type": "markdown",
      "metadata": {
        "id": "RIrcOYQDuCta"
      },
      "source": [
        "###Definimos Robos"
      ]
    },
    {
      "cell_type": "code",
      "metadata": {
        "colab": {
          "base_uri": "https://localhost:8080/",
          "height": 281
        },
        "id": "_7WGErf6rZZ8",
        "outputId": "4c243c97-f9b9-46e2-e494-f1a1cf6b2a64"
      },
      "source": [
        "robo = ctrl.Antecedent(np.arange(0, 50, 1), 'robo')\n",
        "\n",
        "robo['bajo'] = fuzz.trimf(robo.universe, [0, 0, 23])\n",
        "robo['medio'] = fuzz.gbellmf(robo.universe, 7, 7, 25)\n",
        "robo['alto']  = fuzz.pimf(robo.universe, 30, 40, 45, 70)\n",
        "\n",
        "robo.view()"
      ],
      "execution_count": 5,
      "outputs": [
        {
          "output_type": "display_data",
          "data": {
            "image/png": "[encoded data removed]",
            "text/plain": [
              "<Figure size 432x288 with 1 Axes>"
            ]
          },
          "metadata": {
            "needs_background": "light"
          }
        }
      ]
    },
    {
      "cell_type": "markdown",
      "metadata": {
        "id": "Ue55Lu-tuGAn"
      },
      "source": [
        "###Definimos Homicidios"
      ]
    },
    {
      "cell_type": "code",
      "metadata": {
        "colab": {
          "base_uri": "https://localhost:8080/",
          "height": 281
        },
        "id": "VIsGjX9OrZZ9",
        "outputId": "4c1c64b6-153b-43b0-fa15-78b2aae436b5"
      },
      "source": [
        "hom = ctrl.Antecedent(np.arange(0, 50.1, 0.1), 'homicidio')\n",
        "\n",
        "hom['bajo'] = fuzz.sigmf(hom.universe, 9, -5)\n",
        "hom['medio'] = fuzz.trapmf(hom.universe, [7, 14, 25, 30])\n",
        "hom['alto']  = fuzz.pimf(hom.universe, 25, 50, 55, 70)\n",
        "\n",
        "hom.view()"
      ],
      "execution_count": 6,
      "outputs": [
        {
          "output_type": "display_data",
          "data": {
            "image/png": "[encoded data removed]",
            "text/plain": [
              "<Figure size 432x288 with 1 Axes>"
            ]
          },
          "metadata": {
            "needs_background": "light"
          }
        }
      ]
    },
    {
      "cell_type": "markdown",
      "metadata": {
        "id": "7hifavCNuKt7"
      },
      "source": [
        "###Definimos Crimen (El parametro de estudio)"
      ]
    },
    {
      "cell_type": "code",
      "metadata": {
        "colab": {
          "base_uri": "https://localhost:8080/",
          "height": 281
        },
        "id": "kKCCrknFrZZ-",
        "outputId": "4aaad352-b4d8-4b23-bc9d-5d4625065af3"
      },
      "source": [
        "crim = ctrl.Consequent(np.arange(0, 101, 1), 'crimen')\n",
        "\n",
        "crim['bajo'] = fuzz.zmf(crim.universe, 0, 35)\n",
        "crim['medio'] = fuzz.gaussmf(crim.universe, 45, 10)\n",
        "crim['alto']  = fuzz.trimf(crim.universe, [55, 100, 100])\n",
        "\n",
        "crim.view()"
      ],
      "execution_count": 7,
      "outputs": [
        {
          "output_type": "display_data",
          "data": {
            "image/png": "[encoded data removed]",
            "text/plain": [
              "<Figure size 432x288 with 1 Axes>"
            ]
          },
          "metadata": {
            "needs_background": "light"
          }
        }
      ]
    },
    {
      "cell_type": "markdown",
      "metadata": {
        "id": "y0v6rrij9IcX"
      },
      "source": [
        "##Reglas de la simulación "
      ]
    },
    {
      "cell_type": "markdown",
      "metadata": {
        "id": "3Qu0s9UODQ4X"
      },
      "source": [
        "Aqui definiremos las reglas que rigen el sistema del indice de crimen"
      ]
    },
    {
      "cell_type": "code",
      "metadata": {
        "id": "9zhT9E5GrZaB"
      },
      "source": [
        "rule1 = ctrl.Rule(robo['bajo']  & hur['bajo']  & hom['bajo'],                     crim['bajo'])\n",
        "rule2 = ctrl.Rule((robo['medio'] | hur['medio']) & hom['bajo'],                   crim['medio'])\n",
        "rule3 = ctrl.Rule((robo['alto']  | hur['alto'])  | (hom['alto'] | hom['medio']),  crim['alto'])\n",
        "rule4 = ctrl.Rule(t['alto']| t['medio'],                                          crim['medio'])"
      ],
      "execution_count": 8,
      "outputs": []
    },
    {
      "cell_type": "markdown",
      "metadata": {
        "id": "lBlI3ckzDa7z"
      },
      "source": [
        "Ahora definiremos el ssitema de control que se alimenta de las reglas y después creamos la simulación"
      ]
    },
    {
      "cell_type": "code",
      "metadata": {
        "id": "O3wmqa7KrZaD"
      },
      "source": [
        "# Creamos un sistema de control y una simulación\n",
        "crim_ctrl = ctrl.ControlSystem([rule1, rule2, rule3, rule4])\n",
        "crim_sim = ctrl.ControlSystemSimulation(crim_ctrl)"
      ],
      "execution_count": 9,
      "outputs": []
    },
    {
      "cell_type": "markdown",
      "metadata": {
        "id": "GKq4g0LeuoJR"
      },
      "source": [
        "##Simulación"
      ]
    },
    {
      "cell_type": "markdown",
      "metadata": {
        "id": "Pp-ViapF8xNe"
      },
      "source": [
        "###Probamos nuestra simulación con un ejemplo"
      ]
    },
    {
      "cell_type": "code",
      "metadata": {
        "colab": {
          "base_uri": "https://localhost:8080/"
        },
        "id": "ffyQhDLorZaG",
        "outputId": "181e5a04-d37b-4a3f-b465-59e9c537763e"
      },
      "source": [
        "# Entradas de prueba\n",
        "crim_sim.input['robo'] = 1\n",
        "crim_sim.input['hurto'] = 50\n",
        "crim_sim.input['homicidio'] = 5\n",
        "crim_sim.input['T'] = 20\n",
        "\n",
        "# Calculamos\n",
        "crim_sim.compute()\n",
        "crim_sim.output"
      ],
      "execution_count": 10,
      "outputs": [
        {
          "output_type": "execute_result",
          "data": {
            "text/plain": [
              "OrderedDict([('crimen', 66.2104615056453)])"
            ]
          },
          "metadata": {},
          "execution_count": 10
        }
      ]
    },
    {
      "cell_type": "code",
      "metadata": {
        "colab": {
          "base_uri": "https://localhost:8080/",
          "height": 281
        },
        "id": "PWn_esy_6UVw",
        "outputId": "a6df1f79-5a17-4a43-cde5-5f65adbe96f0"
      },
      "source": [
        "crim.view(sim=crim_sim)"
      ],
      "execution_count": 11,
      "outputs": [
        {
          "output_type": "display_data",
          "data": {
            "image/png": "[encoded data removed]",
            "text/plain": [
              "<Figure size 432x288 with 1 Axes>"
            ]
          },
          "metadata": {
            "needs_background": "light"
          }
        }
      ]
    },
    {
      "cell_type": "markdown",
      "metadata": {
        "id": "pFikBHFI9lUv"
      },
      "source": [
        "##Aplicación del algoritmo"
      ]
    },
    {
      "cell_type": "markdown",
      "metadata": {
        "id": "-tZV4aW0D2t2"
      },
      "source": [
        "Aquí definimos una función la cual le entregaremos los parametros del sistemas para el calculo del indice del crimen"
      ]
    },
    {
      "cell_type": "code",
      "metadata": {
        "id": "G2yYjexerZaI"
      },
      "source": [
        "def ic(crim):\n",
        "   # Entrada\n",
        "   crim_sim.input['homicidio'] = crim[0]\n",
        "   crim_sim.input['robo'] = crim[1]\n",
        "   crim_sim.input['hurto'] = crim[2]\n",
        "   crim_sim.input['T'] = crim[3]\n",
        "\n",
        "   # Calcula\n",
        "   crim_sim.compute()\n",
        "   return(crim_sim.output['crimen'])"
      ],
      "execution_count": 12,
      "outputs": []
    },
    {
      "cell_type": "markdown",
      "metadata": {
        "id": "zFcvndjyECbj"
      },
      "source": [
        "Prueba de la función"
      ]
    },
    {
      "cell_type": "code",
      "metadata": {
        "scrolled": true,
        "id": "798CUQwIrZaI",
        "colab": {
          "base_uri": "https://localhost:8080/"
        },
        "outputId": "dc1af7a9-5740-4700-985e-11b2edcf4194"
      },
      "source": [
        "ic([10, 15, 2, 20])"
      ],
      "execution_count": 13,
      "outputs": [
        {
          "output_type": "execute_result",
          "data": {
            "text/plain": [
              "60.58913791066639"
            ]
          },
          "metadata": {},
          "execution_count": 13
        }
      ]
    },
    {
      "cell_type": "markdown",
      "metadata": {
        "id": "x8ZisRNvEGZJ"
      },
      "source": [
        "Importamos la libreria pandas para interactuar con datos del mundo real (para crear el dataset)"
      ]
    },
    {
      "cell_type": "code",
      "metadata": {
        "id": "w4UxOsXsrZaJ"
      },
      "source": [
        "import pandas as pd"
      ],
      "execution_count": 14,
      "outputs": []
    },
    {
      "cell_type": "markdown",
      "metadata": {
        "id": "zRhzc6DXBRcD"
      },
      "source": [
        "Ahora vamos a importar unos datos estadisticos de pereira, para ver el algoritmo en funcionamiento"
      ]
    },
    {
      "cell_type": "code",
      "metadata": {
        "id": "0i0tdCzLrZaJ",
        "colab": {
          "base_uri": "https://localhost:8080/",
          "height": 824
        },
        "outputId": "903e05e7-a2c5-4584-aee0-1c91cb8411fa"
      },
      "source": [
        "df = pd.read_excel('Crimenes.xlsx', sheet_name='PEREIRA')\n",
        "df.set_index(['Year', 'Mes'])"
      ],
      "execution_count": 18,
      "outputs": [
        {
          "output_type": "execute_result",
          "data": {
            "text/html": [
              "<div>\n",
              "<style scoped>\n",
              "    .dataframe tbody tr th:only-of-type {\n",
              "        vertical-align: middle;\n",
              "    }\n",
              "\n",
              "    .dataframe tbody tr th {\n",
              "        vertical-align: top;\n",
              "    }\n",
              "\n",
              "    .dataframe thead th {\n",
              "        text-align: right;\n",
              "    }\n",
              "</style>\n",
              "<table border=\"1\" class=\"dataframe\">\n",
              "  <thead>\n",
              "    <tr style=\"text-align: right;\">\n",
              "      <th></th>\n",
              "      <th></th>\n",
              "      <th>Homicidio</th>\n",
              "      <th>Robo</th>\n",
              "      <th>Hurto</th>\n",
              "      <th>Temp</th>\n",
              "    </tr>\n",
              "    <tr>\n",
              "      <th>Year</th>\n",
              "      <th>Mes</th>\n",
              "      <th></th>\n",
              "      <th></th>\n",
              "      <th></th>\n",
              "      <th></th>\n",
              "    </tr>\n",
              "  </thead>\n",
              "  <tbody>\n",
              "    <tr>\n",
              "      <th>2019.0</th>\n",
              "      <th>1</th>\n",
              "      <td>28</td>\n",
              "      <td>22</td>\n",
              "      <td>19</td>\n",
              "      <td>22</td>\n",
              "    </tr>\n",
              "    <tr>\n",
              "      <th rowspan=\"11\" valign=\"top\">NaN</th>\n",
              "      <th>2</th>\n",
              "      <td>17</td>\n",
              "      <td>20</td>\n",
              "      <td>41</td>\n",
              "      <td>24</td>\n",
              "    </tr>\n",
              "    <tr>\n",
              "      <th>3</th>\n",
              "      <td>0</td>\n",
              "      <td>17</td>\n",
              "      <td>75</td>\n",
              "      <td>22</td>\n",
              "    </tr>\n",
              "    <tr>\n",
              "      <th>4</th>\n",
              "      <td>13</td>\n",
              "      <td>45</td>\n",
              "      <td>99</td>\n",
              "      <td>21</td>\n",
              "    </tr>\n",
              "    <tr>\n",
              "      <th>5</th>\n",
              "      <td>28</td>\n",
              "      <td>52</td>\n",
              "      <td>79</td>\n",
              "      <td>19</td>\n",
              "    </tr>\n",
              "    <tr>\n",
              "      <th>6</th>\n",
              "      <td>4</td>\n",
              "      <td>43</td>\n",
              "      <td>18</td>\n",
              "      <td>26</td>\n",
              "    </tr>\n",
              "    <tr>\n",
              "      <th>7</th>\n",
              "      <td>36</td>\n",
              "      <td>5</td>\n",
              "      <td>72</td>\n",
              "      <td>27</td>\n",
              "    </tr>\n",
              "    <tr>\n",
              "      <th>8</th>\n",
              "      <td>34</td>\n",
              "      <td>19</td>\n",
              "      <td>21</td>\n",
              "      <td>22</td>\n",
              "    </tr>\n",
              "    <tr>\n",
              "      <th>9</th>\n",
              "      <td>16</td>\n",
              "      <td>17</td>\n",
              "      <td>14</td>\n",
              "      <td>27</td>\n",
              "    </tr>\n",
              "    <tr>\n",
              "      <th>10</th>\n",
              "      <td>39</td>\n",
              "      <td>34</td>\n",
              "      <td>15</td>\n",
              "      <td>27</td>\n",
              "    </tr>\n",
              "    <tr>\n",
              "      <th>11</th>\n",
              "      <td>34</td>\n",
              "      <td>52</td>\n",
              "      <td>85</td>\n",
              "      <td>26</td>\n",
              "    </tr>\n",
              "    <tr>\n",
              "      <th>12</th>\n",
              "      <td>7</td>\n",
              "      <td>5</td>\n",
              "      <td>25</td>\n",
              "      <td>20</td>\n",
              "    </tr>\n",
              "    <tr>\n",
              "      <th>2020.0</th>\n",
              "      <th>1</th>\n",
              "      <td>4</td>\n",
              "      <td>32</td>\n",
              "      <td>19</td>\n",
              "      <td>27</td>\n",
              "    </tr>\n",
              "    <tr>\n",
              "      <th rowspan=\"11\" valign=\"top\">NaN</th>\n",
              "      <th>2</th>\n",
              "      <td>10</td>\n",
              "      <td>17</td>\n",
              "      <td>60</td>\n",
              "      <td>25</td>\n",
              "    </tr>\n",
              "    <tr>\n",
              "      <th>3</th>\n",
              "      <td>41</td>\n",
              "      <td>9</td>\n",
              "      <td>97</td>\n",
              "      <td>19</td>\n",
              "    </tr>\n",
              "    <tr>\n",
              "      <th>4</th>\n",
              "      <td>13</td>\n",
              "      <td>12</td>\n",
              "      <td>12</td>\n",
              "      <td>20</td>\n",
              "    </tr>\n",
              "    <tr>\n",
              "      <th>5</th>\n",
              "      <td>23</td>\n",
              "      <td>25</td>\n",
              "      <td>82</td>\n",
              "      <td>19</td>\n",
              "    </tr>\n",
              "    <tr>\n",
              "      <th>6</th>\n",
              "      <td>13</td>\n",
              "      <td>34</td>\n",
              "      <td>56</td>\n",
              "      <td>27</td>\n",
              "    </tr>\n",
              "    <tr>\n",
              "      <th>7</th>\n",
              "      <td>15</td>\n",
              "      <td>38</td>\n",
              "      <td>85</td>\n",
              "      <td>22</td>\n",
              "    </tr>\n",
              "    <tr>\n",
              "      <th>8</th>\n",
              "      <td>0</td>\n",
              "      <td>21</td>\n",
              "      <td>77</td>\n",
              "      <td>19</td>\n",
              "    </tr>\n",
              "    <tr>\n",
              "      <th>9</th>\n",
              "      <td>8</td>\n",
              "      <td>14</td>\n",
              "      <td>91</td>\n",
              "      <td>27</td>\n",
              "    </tr>\n",
              "    <tr>\n",
              "      <th>10</th>\n",
              "      <td>6</td>\n",
              "      <td>16</td>\n",
              "      <td>82</td>\n",
              "      <td>26</td>\n",
              "    </tr>\n",
              "    <tr>\n",
              "      <th>11</th>\n",
              "      <td>27</td>\n",
              "      <td>49</td>\n",
              "      <td>15</td>\n",
              "      <td>25</td>\n",
              "    </tr>\n",
              "    <tr>\n",
              "      <th>12</th>\n",
              "      <td>21</td>\n",
              "      <td>13</td>\n",
              "      <td>77</td>\n",
              "      <td>23</td>\n",
              "    </tr>\n",
              "  </tbody>\n",
              "</table>\n",
              "</div>"
            ],
            "text/plain": [
              "            Homicidio  Robo  Hurto  Temp\n",
              "Year   Mes                              \n",
              "2019.0 1           28    22     19    22\n",
              "NaN    2           17    20     41    24\n",
              "       3            0    17     75    22\n",
              "       4           13    45     99    21\n",
              "       5           28    52     79    19\n",
              "       6            4    43     18    26\n",
              "       7           36     5     72    27\n",
              "       8           34    19     21    22\n",
              "       9           16    17     14    27\n",
              "       10          39    34     15    27\n",
              "       11          34    52     85    26\n",
              "       12           7     5     25    20\n",
              "2020.0 1            4    32     19    27\n",
              "NaN    2           10    17     60    25\n",
              "       3           41     9     97    19\n",
              "       4           13    12     12    20\n",
              "       5           23    25     82    19\n",
              "       6           13    34     56    27\n",
              "       7           15    38     85    22\n",
              "       8            0    21     77    19\n",
              "       9            8    14     91    27\n",
              "       10           6    16     82    26\n",
              "       11          27    49     15    25\n",
              "       12          21    13     77    23"
            ]
          },
          "metadata": {},
          "execution_count": 18
        }
      ]
    },
    {
      "cell_type": "markdown",
      "metadata": {
        "id": "xc4E5mXNEhTe"
      },
      "source": [
        "Comprobar si extrajo los datos de la tabla correctamente (La primera temperatura)"
      ]
    },
    {
      "cell_type": "code",
      "metadata": {
        "id": "tF1YS_sKrZaK",
        "colab": {
          "base_uri": "https://localhost:8080/"
        },
        "outputId": "025eb578-0db3-403a-fd00-1f395f54fe10"
      },
      "source": [
        "df.loc[0,\"Temp\"]"
      ],
      "execution_count": 20,
      "outputs": [
        {
          "output_type": "execute_result",
          "data": {
            "text/plain": [
              "22"
            ]
          },
          "metadata": {},
          "execution_count": 20
        }
      ]
    },
    {
      "cell_type": "markdown",
      "metadata": {
        "id": "Ca3lFw1UEuwG"
      },
      "source": [
        "Creamos una variable auxiliar para guardar los datos de cada mes de nuestra tabla"
      ]
    },
    {
      "cell_type": "code",
      "metadata": {
        "id": "_5_A_UktrZaL"
      },
      "source": [
        "aux = df[[\"Homicidio\", \"Robo\", \"Hurto\", \"Temp\"]]"
      ],
      "execution_count": 21,
      "outputs": []
    },
    {
      "cell_type": "markdown",
      "metadata": {
        "id": "xyReITvCFGY8"
      },
      "source": [
        "Ahora creamos una nueva tabla junto con los nuevos datos calculados por nuestro algoritmo"
      ]
    },
    {
      "cell_type": "code",
      "metadata": {
        "id": "J1lmFZiIrZaL",
        "colab": {
          "base_uri": "https://localhost:8080/"
        },
        "outputId": "4bfd79ae-8451-49a1-f662-e5b5652bdf70"
      },
      "source": [
        "aux[\"IC\"] = aux.apply(ic, axis = 1)"
      ],
      "execution_count": 22,
      "outputs": [
        {
          "output_type": "stream",
          "name": "stderr",
          "text": [
            "/usr/local/lib/python3.7/dist-packages/ipykernel_launcher.py:1: SettingWithCopyWarning: \n",
            "A value is trying to be set on a copy of a slice from a DataFrame.\n",
            "Try using .loc[row_indexer,col_indexer] = value instead\n",
            "\n",
            "See the caveats in the documentation: https://pandas.pydata.org/pandas-docs/stable/user_guide/indexing.html#returning-a-view-versus-a-copy\n",
            "  \"\"\"Entry point for launching an IPython kernel.\n"
          ]
        }
      ]
    },
    {
      "cell_type": "markdown",
      "metadata": {
        "id": "vB9Q2h6kFN2n"
      },
      "source": [
        "Aquí podemos evidenciar el resultado del algoritmo mostrando el indice del crimen de cada mes"
      ]
    },
    {
      "cell_type": "code",
      "metadata": {
        "id": "WywRMwJ0rZaM",
        "colab": {
          "base_uri": "https://localhost:8080/",
          "height": 793
        },
        "outputId": "6728f306-56ec-42bd-d0ee-f75ec2e746fc"
      },
      "source": [
        "aux"
      ],
      "execution_count": 23,
      "outputs": [
        {
          "output_type": "execute_result",
          "data": {
            "text/html": [
              "<div>\n",
              "<style scoped>\n",
              "    .dataframe tbody tr th:only-of-type {\n",
              "        vertical-align: middle;\n",
              "    }\n",
              "\n",
              "    .dataframe tbody tr th {\n",
              "        vertical-align: top;\n",
              "    }\n",
              "\n",
              "    .dataframe thead th {\n",
              "        text-align: right;\n",
              "    }\n",
              "</style>\n",
              "<table border=\"1\" class=\"dataframe\">\n",
              "  <thead>\n",
              "    <tr style=\"text-align: right;\">\n",
              "      <th></th>\n",
              "      <th>Homicidio</th>\n",
              "      <th>Robo</th>\n",
              "      <th>Hurto</th>\n",
              "      <th>Temp</th>\n",
              "      <th>IC</th>\n",
              "    </tr>\n",
              "  </thead>\n",
              "  <tbody>\n",
              "    <tr>\n",
              "      <th>0</th>\n",
              "      <td>28</td>\n",
              "      <td>22</td>\n",
              "      <td>19</td>\n",
              "      <td>22</td>\n",
              "      <td>58.203665</td>\n",
              "    </tr>\n",
              "    <tr>\n",
              "      <th>1</th>\n",
              "      <td>17</td>\n",
              "      <td>20</td>\n",
              "      <td>41</td>\n",
              "      <td>24</td>\n",
              "      <td>64.013047</td>\n",
              "    </tr>\n",
              "    <tr>\n",
              "      <th>2</th>\n",
              "      <td>0</td>\n",
              "      <td>17</td>\n",
              "      <td>75</td>\n",
              "      <td>22</td>\n",
              "      <td>64.012745</td>\n",
              "    </tr>\n",
              "    <tr>\n",
              "      <th>3</th>\n",
              "      <td>13</td>\n",
              "      <td>45</td>\n",
              "      <td>99</td>\n",
              "      <td>21</td>\n",
              "      <td>64.653003</td>\n",
              "    </tr>\n",
              "    <tr>\n",
              "      <th>4</th>\n",
              "      <td>28</td>\n",
              "      <td>52</td>\n",
              "      <td>79</td>\n",
              "      <td>19</td>\n",
              "      <td>68.858711</td>\n",
              "    </tr>\n",
              "    <tr>\n",
              "      <th>5</th>\n",
              "      <td>4</td>\n",
              "      <td>43</td>\n",
              "      <td>18</td>\n",
              "      <td>26</td>\n",
              "      <td>66.210778</td>\n",
              "    </tr>\n",
              "    <tr>\n",
              "      <th>6</th>\n",
              "      <td>36</td>\n",
              "      <td>5</td>\n",
              "      <td>72</td>\n",
              "      <td>27</td>\n",
              "      <td>68.858711</td>\n",
              "    </tr>\n",
              "    <tr>\n",
              "      <th>7</th>\n",
              "      <td>34</td>\n",
              "      <td>19</td>\n",
              "      <td>21</td>\n",
              "      <td>22</td>\n",
              "      <td>54.811552</td>\n",
              "    </tr>\n",
              "    <tr>\n",
              "      <th>8</th>\n",
              "      <td>16</td>\n",
              "      <td>17</td>\n",
              "      <td>14</td>\n",
              "      <td>27</td>\n",
              "      <td>68.859039</td>\n",
              "    </tr>\n",
              "    <tr>\n",
              "      <th>9</th>\n",
              "      <td>39</td>\n",
              "      <td>34</td>\n",
              "      <td>15</td>\n",
              "      <td>27</td>\n",
              "      <td>66.274713</td>\n",
              "    </tr>\n",
              "    <tr>\n",
              "      <th>10</th>\n",
              "      <td>34</td>\n",
              "      <td>52</td>\n",
              "      <td>85</td>\n",
              "      <td>26</td>\n",
              "      <td>66.210462</td>\n",
              "    </tr>\n",
              "    <tr>\n",
              "      <th>11</th>\n",
              "      <td>7</td>\n",
              "      <td>5</td>\n",
              "      <td>25</td>\n",
              "      <td>20</td>\n",
              "      <td>45.000162</td>\n",
              "    </tr>\n",
              "    <tr>\n",
              "      <th>12</th>\n",
              "      <td>4</td>\n",
              "      <td>32</td>\n",
              "      <td>19</td>\n",
              "      <td>27</td>\n",
              "      <td>48.519590</td>\n",
              "    </tr>\n",
              "    <tr>\n",
              "      <th>13</th>\n",
              "      <td>10</td>\n",
              "      <td>17</td>\n",
              "      <td>60</td>\n",
              "      <td>25</td>\n",
              "      <td>64.652697</td>\n",
              "    </tr>\n",
              "    <tr>\n",
              "      <th>14</th>\n",
              "      <td>41</td>\n",
              "      <td>9</td>\n",
              "      <td>97</td>\n",
              "      <td>19</td>\n",
              "      <td>68.858711</td>\n",
              "    </tr>\n",
              "    <tr>\n",
              "      <th>15</th>\n",
              "      <td>13</td>\n",
              "      <td>12</td>\n",
              "      <td>12</td>\n",
              "      <td>20</td>\n",
              "      <td>65.852246</td>\n",
              "    </tr>\n",
              "    <tr>\n",
              "      <th>16</th>\n",
              "      <td>23</td>\n",
              "      <td>25</td>\n",
              "      <td>82</td>\n",
              "      <td>19</td>\n",
              "      <td>68.859039</td>\n",
              "    </tr>\n",
              "    <tr>\n",
              "      <th>17</th>\n",
              "      <td>13</td>\n",
              "      <td>34</td>\n",
              "      <td>56</td>\n",
              "      <td>27</td>\n",
              "      <td>68.858711</td>\n",
              "    </tr>\n",
              "    <tr>\n",
              "      <th>18</th>\n",
              "      <td>15</td>\n",
              "      <td>38</td>\n",
              "      <td>85</td>\n",
              "      <td>22</td>\n",
              "      <td>64.013047</td>\n",
              "    </tr>\n",
              "    <tr>\n",
              "      <th>19</th>\n",
              "      <td>0</td>\n",
              "      <td>21</td>\n",
              "      <td>77</td>\n",
              "      <td>19</td>\n",
              "      <td>63.916072</td>\n",
              "    </tr>\n",
              "    <tr>\n",
              "      <th>20</th>\n",
              "      <td>8</td>\n",
              "      <td>14</td>\n",
              "      <td>91</td>\n",
              "      <td>27</td>\n",
              "      <td>68.858711</td>\n",
              "    </tr>\n",
              "    <tr>\n",
              "      <th>21</th>\n",
              "      <td>6</td>\n",
              "      <td>16</td>\n",
              "      <td>82</td>\n",
              "      <td>26</td>\n",
              "      <td>66.210462</td>\n",
              "    </tr>\n",
              "    <tr>\n",
              "      <th>22</th>\n",
              "      <td>27</td>\n",
              "      <td>49</td>\n",
              "      <td>15</td>\n",
              "      <td>25</td>\n",
              "      <td>64.606838</td>\n",
              "    </tr>\n",
              "    <tr>\n",
              "      <th>23</th>\n",
              "      <td>21</td>\n",
              "      <td>13</td>\n",
              "      <td>77</td>\n",
              "      <td>23</td>\n",
              "      <td>63.916360</td>\n",
              "    </tr>\n",
              "  </tbody>\n",
              "</table>\n",
              "</div>"
            ],
            "text/plain": [
              "    Homicidio  Robo  Hurto  Temp         IC\n",
              "0          28    22     19    22  58.203665\n",
              "1          17    20     41    24  64.013047\n",
              "2           0    17     75    22  64.012745\n",
              "3          13    45     99    21  64.653003\n",
              "4          28    52     79    19  68.858711\n",
              "5           4    43     18    26  66.210778\n",
              "6          36     5     72    27  68.858711\n",
              "7          34    19     21    22  54.811552\n",
              "8          16    17     14    27  68.859039\n",
              "9          39    34     15    27  66.274713\n",
              "10         34    52     85    26  66.210462\n",
              "11          7     5     25    20  45.000162\n",
              "12          4    32     19    27  48.519590\n",
              "13         10    17     60    25  64.652697\n",
              "14         41     9     97    19  68.858711\n",
              "15         13    12     12    20  65.852246\n",
              "16         23    25     82    19  68.859039\n",
              "17         13    34     56    27  68.858711\n",
              "18         15    38     85    22  64.013047\n",
              "19          0    21     77    19  63.916072\n",
              "20          8    14     91    27  68.858711\n",
              "21          6    16     82    26  66.210462\n",
              "22         27    49     15    25  64.606838\n",
              "23         21    13     77    23  63.916360"
            ]
          },
          "metadata": {},
          "execution_count": 23
        }
      ]
    }
  ]
}
